{
 "cells": [
  {
   "cell_type": "code",
   "execution_count": 14,
   "metadata": {},
   "outputs": [],
   "source": [
    "import csv\n",
    "import sys\n",
    "\n",
    "from util import Node, StackFrontier, QueueFrontier\n",
    "\n",
    "# Maps names to a set of corresponding person_ids\n",
    "names = {}\n",
    "\n",
    "# Maps person_ids to a dictionary of: name, birth, movies (a set of movie_ids)\n",
    "people = {}\n",
    "\n",
    "# Maps movie_ids to a dictionary of: title, year, stars (a set of person_ids)\n",
    "movies = {}\n",
    "\n",
    "\n",
    "def load_data(directory):\n",
    "    \"\"\"\n",
    "    Load data from CSV files into memory.\n",
    "    \"\"\"\n",
    "    # Load people\n",
    "    with open(f\"{directory}/people.csv\", encoding=\"utf-8\") as f:\n",
    "        reader = csv.DictReader(f)\n",
    "        for row in reader:\n",
    "            people[row[\"id\"]] = {\n",
    "                \"name\": row[\"name\"],\n",
    "                \"birth\": row[\"birth\"],\n",
    "                \"movies\": set()\n",
    "            }\n",
    "            if row[\"name\"].lower() not in names:\n",
    "                names[row[\"name\"].lower()] = {row[\"id\"]}\n",
    "            else:\n",
    "                names[row[\"name\"].lower()].add(row[\"id\"])\n",
    "\n",
    "    # Load movies\n",
    "    with open(f\"{directory}/movies.csv\", encoding=\"utf-8\") as f:\n",
    "        reader = csv.DictReader(f)\n",
    "        for row in reader:\n",
    "            movies[row[\"id\"]] = {\n",
    "                \"title\": row[\"title\"],\n",
    "                \"year\": row[\"year\"],\n",
    "                \"stars\": set()\n",
    "            }\n",
    "\n",
    "    # Load stars\n",
    "    with open(f\"{directory}/stars.csv\", encoding=\"utf-8\") as f:\n",
    "        reader = csv.DictReader(f)\n",
    "        for row in reader:\n",
    "            try:\n",
    "                people[row[\"person_id\"]][\"movies\"].add(row[\"movie_id\"])\n",
    "                movies[row[\"movie_id\"]][\"stars\"].add(row[\"person_id\"])\n",
    "            except KeyError:\n",
    "                pass\n"
   ]
  },
  {
   "cell_type": "code",
   "execution_count": 15,
   "metadata": {},
   "outputs": [],
   "source": [
    "load_data(\"./small\")"
   ]
  },
  {
   "cell_type": "code",
   "execution_count": 16,
   "metadata": {},
   "outputs": [
    {
     "data": {
      "text/plain": [
       "{'kevin bacon': {'102'},\n",
       " 'tom cruise': {'129'},\n",
       " 'cary elwes': {'144'},\n",
       " 'tom hanks': {'158'},\n",
       " 'mandy patinkin': {'1597'},\n",
       " 'dustin hoffman': {'163'},\n",
       " 'chris sarandon': {'1697'},\n",
       " 'demi moore': {'193'},\n",
       " 'jack nicholson': {'197'},\n",
       " 'bill paxton': {'200'},\n",
       " 'sally field': {'398'},\n",
       " 'valeria golino': {'420'},\n",
       " 'gerald r. molen': {'596520'},\n",
       " 'gary sinise': {'641'},\n",
       " 'robin wright': {'705'},\n",
       " 'emma watson': {'914612'}}"
      ]
     },
     "execution_count": 16,
     "metadata": {},
     "output_type": "execute_result"
    }
   ],
   "source": [
    "names"
   ]
  },
  {
   "cell_type": "code",
   "execution_count": 19,
   "metadata": {},
   "outputs": [
    {
     "data": {
      "text/plain": [
       "{'112384': {'title': 'Apollo 13',\n",
       "  'year': '1995',\n",
       "  'stars': {'102', '158', '200', '641'}},\n",
       " '104257': {'title': 'A Few Good Men',\n",
       "  'year': '1992',\n",
       "  'stars': {'102', '129', '193', '197'}},\n",
       " '109830': {'title': 'Forrest Gump',\n",
       "  'year': '1994',\n",
       "  'stars': {'158', '398', '641', '705'}},\n",
       " '93779': {'title': 'The Princess Bride',\n",
       "  'year': '1987',\n",
       "  'stars': {'144', '1597', '1697', '705'}},\n",
       " '95953': {'title': 'Rain Man',\n",
       "  'year': '1988',\n",
       "  'stars': {'129', '163', '420', '596520'}}}"
      ]
     },
     "execution_count": 19,
     "metadata": {},
     "output_type": "execute_result"
    }
   ],
   "source": [
    "movies"
   ]
  },
  {
   "cell_type": "code",
   "execution_count": 13,
   "metadata": {},
   "outputs": [
    {
     "data": {
      "text/plain": [
       "{'102': {'name': 'Kevin Bacon',\n",
       "  'birth': '1958',\n",
       "  'movies': {'104257', '112384'}},\n",
       " '129': {'name': 'Tom Cruise', 'birth': '1962', 'movies': {'104257', '95953'}},\n",
       " '144': {'name': 'Cary Elwes', 'birth': '1962', 'movies': {'93779'}},\n",
       " '158': {'name': 'Tom Hanks', 'birth': '1956', 'movies': {'109830', '112384'}},\n",
       " '1597': {'name': 'Mandy Patinkin', 'birth': '1952', 'movies': {'93779'}},\n",
       " '163': {'name': 'Dustin Hoffman', 'birth': '1937', 'movies': {'95953'}},\n",
       " '1697': {'name': 'Chris Sarandon', 'birth': '1942', 'movies': {'93779'}},\n",
       " '193': {'name': 'Demi Moore', 'birth': '1962', 'movies': {'104257'}},\n",
       " '197': {'name': 'Jack Nicholson', 'birth': '1937', 'movies': {'104257'}},\n",
       " '200': {'name': 'Bill Paxton', 'birth': '1955', 'movies': {'112384'}},\n",
       " '398': {'name': 'Sally Field', 'birth': '1946', 'movies': {'109830'}},\n",
       " '420': {'name': 'Valeria Golino', 'birth': '1965', 'movies': {'95953'}},\n",
       " '596520': {'name': 'Gerald R. Molen', 'birth': '1935', 'movies': {'95953'}},\n",
       " '641': {'name': 'Gary Sinise',\n",
       "  'birth': '1955',\n",
       "  'movies': {'109830', '112384'}},\n",
       " '705': {'name': 'Robin Wright',\n",
       "  'birth': '1966',\n",
       "  'movies': {'109830', '93779'}},\n",
       " '914612': {'name': 'Emma Watson', 'birth': '1990', 'movies': set()}}"
      ]
     },
     "execution_count": 13,
     "metadata": {},
     "output_type": "execute_result"
    }
   ],
   "source": [
    "people"
   ]
  },
  {
   "cell_type": "code",
   "execution_count": null,
   "metadata": {},
   "outputs": [],
   "source": []
  },
  {
   "cell_type": "code",
   "execution_count": null,
   "metadata": {},
   "outputs": [],
   "source": [
    "def person_id_for_name(name):\n",
    "    \"\"\"\n",
    "    Returns the IMDB id for a person's name,\n",
    "    resolving ambiguities as needed.\n",
    "    \"\"\"\n",
    "    person_ids = list(names.get(name.lower(), set()))\n",
    "    if len(person_ids) == 0:\n",
    "        return None\n",
    "    elif len(person_ids) > 1:\n",
    "        print(f\"Which '{name}'?\")\n",
    "        for person_id in person_ids:\n",
    "            person = people[person_id]\n",
    "            name = person[\"name\"]\n",
    "            birth = person[\"birth\"]\n",
    "            print(f\"ID: {person_id}, Name: {name}, Birth: {birth}\")\n",
    "        try:\n",
    "            person_id = input(\"Intended Person ID: \")\n",
    "            if person_id in person_ids:\n",
    "                return person_id\n",
    "        except ValueError:\n",
    "            pass\n",
    "        return None\n",
    "    else:\n",
    "        return person_ids[0]\n",
    "\n",
    "\n",
    "def neighbors_for_person(person_id):\n",
    "    \"\"\"\n",
    "    Returns (movie_id, person_id) pairs for people\n",
    "    who starred with a given person.\n",
    "    \"\"\"\n",
    "    movie_ids = people[person_id][\"movies\"]\n",
    "    neighbors = set()\n",
    "    for movie_id in movie_ids:\n",
    "        for person_id in movies[movie_id][\"stars\"]:\n",
    "            neighbors.add((movie_id, person_id))\n",
    "    return neighbors\n",
    "\n",
    "def shortest_path(source, target):\n",
    "    \"\"\"\n",
    "    Returns the shortest list of (movie_id, person_id) pairs\n",
    "    that connect the source to the target.\n",
    "\n",
    "    If no possible path, returns None.\n",
    "    \"\"\"\n",
    "\n",
    "    # Initialization\n",
    "    que = QueueFrontier()\n",
    "    initial_action = neighbors_for_person(source)\n",
    "    initial_node = Node(source, None,initial_action)\n",
    "    \n",
    "    explored = []\n",
    "    stack.add(initial_node)\n",
    "    \n",
    "    # BFS Que\n",
    "    while que.state!=target:\n",
    "        shortest_path = []\n",
    "\n",
    "        if que.empty():\n",
    "#             print(\"no path\")\n",
    "            return None\n",
    "        \n",
    "        parent_node = que.remove()\n",
    "        explored.append(parent_node.state)\n",
    "        \n",
    "        # Add present actions availbale and the current state\n",
    "        actions_set = parent_node.action\n",
    "        for action in parent_node.action:\n",
    "            state = list(action)[0]   \n",
    "            if state not in explored:\n",
    "                actions = neighbors_for_person(state)\n",
    "                que.add(Node(state, parent_node, actions))\n",
    "                \n",
    "        if que.contains_state(target):\n",
    "#             shortest_path.append(target)\n",
    "            parent_node = que.parent\n",
    "            while parent_node.state!=source:\n",
    "                for actions in parent_node.action:\n",
    "                    if list(actions)[0] == que.state:\n",
    "                        shortest_path.append(actions)\n",
    "                parent_node = que.parent\n",
    "            return shortest_path\n",
    "            \n",
    "            \n",
    "\n",
    "    "
   ]
  },
  {
   "cell_type": "code",
   "execution_count": null,
   "metadata": {},
   "outputs": [],
   "source": [
    "\n",
    "# Load data from files into memory\n",
    "print(\"Loading data...\")\n",
    "load_data(directory)\n",
    "print(\"Data loaded.\")\n",
    "\n",
    "source = person_id_for_name(input(\"Name: \"))\n",
    "if source is None:\n",
    "    sys.exit(\"Person not found.\")\n",
    "target = person_id_for_name(input(\"Name: \"))\n",
    "if target is None:\n",
    "    sys.exit(\"Person not found.\")\n",
    "\n",
    "path = shortest_path(source, target)\n",
    "\n",
    "if path is None:\n",
    "    print(\"Not connected.\")\n",
    "else:\n",
    "    degrees = len(path)\n",
    "    print(f\"{degrees} degrees of separation.\")\n",
    "    path = [(None, source)] + path\n",
    "    for i in range(degrees):\n",
    "        person1 = people[path[i][1]][\"name\"]\n",
    "        person2 = people[path[i + 1][1]][\"name\"]\n",
    "        movie = movies[path[i + 1][0]][\"title\"]\n",
    "        print(f\"{i + 1}: {person1} and {person2} starred in {movie}\")\n"
   ]
  }
 ],
 "metadata": {
  "kernelspec": {
   "display_name": "Python 3 (ipykernel)",
   "language": "python",
   "name": "python3"
  },
  "language_info": {
   "codemirror_mode": {
    "name": "ipython",
    "version": 3
   },
   "file_extension": ".py",
   "mimetype": "text/x-python",
   "name": "python",
   "nbconvert_exporter": "python",
   "pygments_lexer": "ipython3",
   "version": "3.9.6"
  }
 },
 "nbformat": 4,
 "nbformat_minor": 2
}
